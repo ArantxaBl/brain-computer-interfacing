{
 "cells": [
  {
   "cell_type": "markdown",
   "metadata": {},
   "source": [
    "# Predicting EEG time series\n",
    "\n",
    "Javi Rameerez <javi@rameerez.com> | [@rameerez [tw]](http://twitter.com/rameerez)\n",
    "\n",
    "This code is Open Source, released under a GPL License."
   ]
  },
  {
   "cell_type": "markdown",
   "metadata": {},
   "source": [
    "Our goal is to use some kind of mathematical model, more concisely machine learning models, to model the behavior of our EEG time series.\n",
    "\n",
    "Our first guess will be to use deep Recurrent Neural Networks (RNN) based on LSTM cells."
   ]
  },
  {
   "cell_type": "markdown",
   "metadata": {},
   "source": [
    "## Single-variable time series modelling with LSTM-based RNNs"
   ]
  },
  {
   "cell_type": "code",
   "execution_count": 1,
   "metadata": {},
   "outputs": [],
   "source": [
    "import numpy as np\n",
    "import matplotlib.pyplot as plt\n",
    "import pandas as pd\n",
    "import torch\n",
    "import torch.nn as nn\n",
    "from torch.autograd import Variable\n",
    "from sklearn.preprocessing import MinMaxScaler"
   ]
  },
  {
   "cell_type": "code",
   "execution_count": 3,
   "metadata": {},
   "outputs": [],
   "source": [
    "df = pd.read_csv(\"data/3-thinking-about-moving-hands-2-BBT-E16-AAA005-2019-11-08_18-45-48/EEG.csv\")"
   ]
  },
  {
   "cell_type": "code",
   "execution_count": 4,
   "metadata": {},
   "outputs": [
    {
     "data": {
      "text/html": [
       "<div>\n",
       "<style scoped>\n",
       "    .dataframe tbody tr th:only-of-type {\n",
       "        vertical-align: middle;\n",
       "    }\n",
       "\n",
       "    .dataframe tbody tr th {\n",
       "        vertical-align: top;\n",
       "    }\n",
       "\n",
       "    .dataframe thead th {\n",
       "        text-align: right;\n",
       "    }\n",
       "</style>\n",
       "<table border=\"1\" class=\"dataframe\">\n",
       "  <thead>\n",
       "    <tr style=\"text-align: right;\">\n",
       "      <th></th>\n",
       "      <th>timestamp</th>\n",
       "      <th>sequence</th>\n",
       "      <th>battery</th>\n",
       "      <th>flags</th>\n",
       "      <th>EEG-ch1</th>\n",
       "      <th>EEG-ch2</th>\n",
       "      <th>EEG-ch3</th>\n",
       "      <th>EEG-ch4</th>\n",
       "      <th>EEG-ch5</th>\n",
       "      <th>EEG-ch6</th>\n",
       "      <th>EEG-ch7</th>\n",
       "      <th>EEG-ch8</th>\n",
       "      <th>EEG-ch9</th>\n",
       "      <th>EEG-ch10</th>\n",
       "      <th>EEG-ch11</th>\n",
       "      <th>EEG-ch12</th>\n",
       "      <th>EEG-ch13</th>\n",
       "      <th>EEG-ch14</th>\n",
       "      <th>EEG-ch15</th>\n",
       "      <th>EEG-ch16</th>\n",
       "    </tr>\n",
       "  </thead>\n",
       "  <tbody>\n",
       "    <tr>\n",
       "      <th>0</th>\n",
       "      <td>11333317601</td>\n",
       "      <td>24377</td>\n",
       "      <td>-2</td>\n",
       "      <td>0</td>\n",
       "      <td>26244.797302</td>\n",
       "      <td>14440.732099</td>\n",
       "      <td>5991.811953</td>\n",
       "      <td>12210.174253</td>\n",
       "      <td>-45292.170747</td>\n",
       "      <td>-11380.008801</td>\n",
       "      <td>-50157.399987</td>\n",
       "      <td>-55351.558574</td>\n",
       "      <td>-7832.273439</td>\n",
       "      <td>-37863.463309</td>\n",
       "      <td>-51954.398459</td>\n",
       "      <td>-22407.896624</td>\n",
       "      <td>-35959.960986</td>\n",
       "      <td>-9194.593110</td>\n",
       "      <td>-11373.864115</td>\n",
       "      <td>-1316.946330</td>\n",
       "    </tr>\n",
       "    <tr>\n",
       "      <th>1</th>\n",
       "      <td>11333317601</td>\n",
       "      <td>24377</td>\n",
       "      <td>-2</td>\n",
       "      <td>0</td>\n",
       "      <td>26243.252005</td>\n",
       "      <td>14437.422485</td>\n",
       "      <td>5986.409495</td>\n",
       "      <td>12208.555949</td>\n",
       "      <td>-45295.078827</td>\n",
       "      <td>-11383.062893</td>\n",
       "      <td>-50158.568085</td>\n",
       "      <td>-55358.275143</td>\n",
       "      <td>-7834.609637</td>\n",
       "      <td>-37864.509731</td>\n",
       "      <td>-51954.921670</td>\n",
       "      <td>-22409.685276</td>\n",
       "      <td>-35960.545035</td>\n",
       "      <td>-9197.476855</td>\n",
       "      <td>-11376.346325</td>\n",
       "      <td>-1316.435287</td>\n",
       "    </tr>\n",
       "    <tr>\n",
       "      <th>2</th>\n",
       "      <td>11333317601</td>\n",
       "      <td>24377</td>\n",
       "      <td>-2</td>\n",
       "      <td>0</td>\n",
       "      <td>26238.092901</td>\n",
       "      <td>14432.640580</td>\n",
       "      <td>5983.099882</td>\n",
       "      <td>12203.834883</td>\n",
       "      <td>-45298.497950</td>\n",
       "      <td>-11384.973222</td>\n",
       "      <td>-50164.080052</td>\n",
       "      <td>-55362.898867</td>\n",
       "      <td>-7838.539803</td>\n",
       "      <td>-37869.315971</td>\n",
       "      <td>-51959.910426</td>\n",
       "      <td>-22412.629859</td>\n",
       "      <td>-35963.842481</td>\n",
       "      <td>-9202.429107</td>\n",
       "      <td>-11381.164733</td>\n",
       "      <td>-1318.832323</td>\n",
       "    </tr>\n",
       "    <tr>\n",
       "      <th>3</th>\n",
       "      <td>11333317601</td>\n",
       "      <td>24377</td>\n",
       "      <td>-2</td>\n",
       "      <td>0</td>\n",
       "      <td>26233.603021</td>\n",
       "      <td>14429.257961</td>\n",
       "      <td>5980.106628</td>\n",
       "      <td>12198.310748</td>\n",
       "      <td>-45303.377196</td>\n",
       "      <td>-11389.098071</td>\n",
       "      <td>-50169.226988</td>\n",
       "      <td>-55369.651939</td>\n",
       "      <td>-7841.472218</td>\n",
       "      <td>-37872.674256</td>\n",
       "      <td>-51965.872598</td>\n",
       "      <td>-22416.925056</td>\n",
       "      <td>-35967.152095</td>\n",
       "      <td>-9205.544038</td>\n",
       "      <td>-11385.034060</td>\n",
       "      <td>-1321.363204</td>\n",
       "    </tr>\n",
       "    <tr>\n",
       "      <th>4</th>\n",
       "      <td>11333317601</td>\n",
       "      <td>24377</td>\n",
       "      <td>-2</td>\n",
       "      <td>0</td>\n",
       "      <td>26235.939219</td>\n",
       "      <td>14427.140781</td>\n",
       "      <td>5978.111126</td>\n",
       "      <td>12200.598275</td>\n",
       "      <td>-45305.749897</td>\n",
       "      <td>-11390.241834</td>\n",
       "      <td>-50173.716868</td>\n",
       "      <td>-55373.229242</td>\n",
       "      <td>-7843.735409</td>\n",
       "      <td>-37874.681925</td>\n",
       "      <td>-51968.707671</td>\n",
       "      <td>-22420.599700</td>\n",
       "      <td>-35969.196268</td>\n",
       "      <td>-9208.087086</td>\n",
       "      <td>-11386.396842</td>\n",
       "      <td>-1321.886415</td>\n",
       "    </tr>\n",
       "  </tbody>\n",
       "</table>\n",
       "</div>"
      ],
      "text/plain": [
       "     timestamp  sequence  battery  flags       EEG-ch1       EEG-ch2  \\\n",
       "0  11333317601     24377       -2      0  26244.797302  14440.732099   \n",
       "1  11333317601     24377       -2      0  26243.252005  14437.422485   \n",
       "2  11333317601     24377       -2      0  26238.092901  14432.640580   \n",
       "3  11333317601     24377       -2      0  26233.603021  14429.257961   \n",
       "4  11333317601     24377       -2      0  26235.939219  14427.140781   \n",
       "\n",
       "       EEG-ch3       EEG-ch4       EEG-ch5       EEG-ch6       EEG-ch7  \\\n",
       "0  5991.811953  12210.174253 -45292.170747 -11380.008801 -50157.399987   \n",
       "1  5986.409495  12208.555949 -45295.078827 -11383.062893 -50158.568085   \n",
       "2  5983.099882  12203.834883 -45298.497950 -11384.973222 -50164.080052   \n",
       "3  5980.106628  12198.310748 -45303.377196 -11389.098071 -50169.226988   \n",
       "4  5978.111126  12200.598275 -45305.749897 -11390.241834 -50173.716868   \n",
       "\n",
       "        EEG-ch8      EEG-ch9      EEG-ch10      EEG-ch11      EEG-ch12  \\\n",
       "0 -55351.558574 -7832.273439 -37863.463309 -51954.398459 -22407.896624   \n",
       "1 -55358.275143 -7834.609637 -37864.509731 -51954.921670 -22409.685276   \n",
       "2 -55362.898867 -7838.539803 -37869.315971 -51959.910426 -22412.629859   \n",
       "3 -55369.651939 -7841.472218 -37872.674256 -51965.872598 -22416.925056   \n",
       "4 -55373.229242 -7843.735409 -37874.681925 -51968.707671 -22420.599700   \n",
       "\n",
       "       EEG-ch13     EEG-ch14      EEG-ch15     EEG-ch16  \n",
       "0 -35959.960986 -9194.593110 -11373.864115 -1316.946330  \n",
       "1 -35960.545035 -9197.476855 -11376.346325 -1316.435287  \n",
       "2 -35963.842481 -9202.429107 -11381.164733 -1318.832323  \n",
       "3 -35967.152095 -9205.544038 -11385.034060 -1321.363204  \n",
       "4 -35969.196268 -9208.087086 -11386.396842 -1321.886415  "
      ]
     },
     "execution_count": 4,
     "metadata": {},
     "output_type": "execute_result"
    }
   ],
   "source": [
    "df.head()"
   ]
  },
  {
   "cell_type": "code",
   "execution_count": 12,
   "metadata": {},
   "outputs": [
    {
     "data": {
      "text/plain": [
       "<matplotlib.axes._subplots.AxesSubplot at 0x1a2c8b9320>"
      ]
     },
     "execution_count": 12,
     "metadata": {},
     "output_type": "execute_result"
    },
    {
     "data": {
      "image/png": "[encoded data removed]",
      "text/plain": [
       "<Figure size 1152x144 with 1 Axes>"
      ]
     },
     "metadata": {
      "needs_background": "light"
     },
     "output_type": "display_data"
    }
   ],
   "source": [
    "df[\"EEG-ch1\"].plot(figsize=(16,2))"
   ]
  },
  {
   "cell_type": "code",
   "execution_count": 13,
   "metadata": {},
   "outputs": [],
   "source": [
    "training_set = df[\"EEG-ch1\"].values"
   ]
  },
  {
   "cell_type": "code",
   "execution_count": 14,
   "metadata": {},
   "outputs": [
    {
     "data": {
      "text/plain": [
       "array([26244.79730213, 26243.25200463, 26238.09290118, ...,\n",
       "       26143.68374153, 26137.01584367, 26135.92075096])"
      ]
     },
     "execution_count": 14,
     "metadata": {},
     "output_type": "execute_result"
    }
   ],
   "source": [
    "training_set"
   ]
  },
  {
   "cell_type": "code",
   "execution_count": 18,
   "metadata": {},
   "outputs": [],
   "source": [
    "# Required for Scikitlearn to rescale\n",
    "training_set = training_set.reshape(-1,1)"
   ]
  },
  {
   "cell_type": "code",
   "execution_count": 19,
   "metadata": {},
   "outputs": [
    {
     "data": {
      "text/plain": [
       "array([[26244.79730213],\n",
       "       [26243.25200463],\n",
       "       [26238.09290118],\n",
       "       ...,\n",
       "       [26143.68374153],\n",
       "       [26137.01584367],\n",
       "       [26135.92075096]])"
      ]
     },
     "execution_count": 19,
     "metadata": {},
     "output_type": "execute_result"
    }
   ],
   "source": [
    "training_set"
   ]
  },
  {
   "cell_type": "markdown",
   "metadata": {},
   "source": [
    "### Data splitting"
   ]
  },
  {
   "cell_type": "code",
   "execution_count": 20,
   "metadata": {},
   "outputs": [],
   "source": [
    "def sliding_windows(data, seq_length):\n",
    "    x = []\n",
    "    y = []\n",
    "\n",
    "    for i in range(len(data)-seq_length-1):\n",
    "        _x = data[i:(i+seq_length)]\n",
    "        _y = data[i+seq_length]\n",
    "        x.append(_x)\n",
    "        y.append(_y)\n",
    "\n",
    "    return np.array(x),np.array(y)"
   ]
  },
  {
   "cell_type": "code",
   "execution_count": 21,
   "metadata": {},
   "outputs": [],
   "source": [
    "sc = MinMaxScaler()\n",
    "training_data = sc.fit_transform(training_set)\n",
    "\n",
    "seq_length = 4\n",
    "x, y = sliding_windows(training_data, seq_length)\n",
    "\n",
    "train_size = int(len(y) * 0.67)\n",
    "test_size = len(y) - train_size\n",
    "\n",
    "dataX = Variable(torch.Tensor(np.array(x)))\n",
    "dataY = Variable(torch.Tensor(np.array(y)))\n",
    "\n",
    "trainX = Variable(torch.Tensor(np.array(x[0:train_size])))\n",
    "trainY = Variable(torch.Tensor(np.array(y[0:train_size])))\n",
    "\n",
    "testX = Variable(torch.Tensor(np.array(x[train_size:len(x)])))\n",
    "testY = Variable(torch.Tensor(np.array(y[train_size:len(y)])))"
   ]
  },
  {
   "cell_type": "markdown",
   "metadata": {},
   "source": [
    "### Defining our LSTM neural network"
   ]
  },
  {
   "cell_type": "code",
   "execution_count": 22,
   "metadata": {},
   "outputs": [],
   "source": [
    "class LSTM(nn.Module):\n",
    "\n",
    "    def __init__(self, num_classes, input_size, hidden_size, num_layers):\n",
    "        super(LSTM, self).__init__()\n",
    "        \n",
    "        self.num_classes = num_classes\n",
    "        self.num_layers = num_layers\n",
    "        self.input_size = input_size\n",
    "        self.hidden_size = hidden_size\n",
    "        self.seq_length = seq_length\n",
    "        \n",
    "        self.lstm = nn.LSTM(input_size=input_size, hidden_size=hidden_size,\n",
    "                            num_layers=num_layers, batch_first=True)\n",
    "        \n",
    "        self.fc = nn.Linear(hidden_size, num_classes)\n",
    "\n",
    "    def forward(self, x):\n",
    "        h_0 = Variable(torch.zeros(\n",
    "            self.num_layers, x.size(0), self.hidden_size))\n",
    "        \n",
    "        c_0 = Variable(torch.zeros(\n",
    "            self.num_layers, x.size(0), self.hidden_size))\n",
    "        \n",
    "        # Propagate input through LSTM\n",
    "        ula, (h_out, _) = self.lstm(x, (h_0, c_0))\n",
    "        \n",
    "        h_out = h_out.view(-1, self.hidden_size)\n",
    "        \n",
    "        out = self.fc(h_out)\n",
    "        \n",
    "        return out"
   ]
  },
  {
   "cell_type": "markdown",
   "metadata": {},
   "source": [
    "### Training the neural net"
   ]
  },
  {
   "cell_type": "code",
   "execution_count": 29,
   "metadata": {},
   "outputs": [
    {
     "name": "stdout",
     "output_type": "stream",
     "text": [
      "Epoch: 0, loss: 0.05929\n",
      "Epoch: 10, loss: 0.04702\n",
      "Epoch: 20, loss: 0.04184\n",
      "Epoch: 30, loss: 0.03606\n",
      "Epoch: 40, loss: 0.02679\n",
      "Epoch: 50, loss: 0.01190\n",
      "Epoch: 60, loss: 0.00228\n",
      "Epoch: 70, loss: 0.00229\n",
      "Epoch: 80, loss: 0.00074\n",
      "Epoch: 90, loss: 0.00084\n",
      "Epoch: 100, loss: 0.00065\n",
      "Epoch: 110, loss: 0.00064\n",
      "Epoch: 120, loss: 0.00060\n",
      "Epoch: 130, loss: 0.00058\n",
      "Epoch: 140, loss: 0.00056\n",
      "Epoch: 150, loss: 0.00054\n",
      "Epoch: 160, loss: 0.00052\n",
      "Epoch: 170, loss: 0.00051\n",
      "Epoch: 180, loss: 0.00049\n",
      "Epoch: 190, loss: 0.00048\n"
     ]
    }
   ],
   "source": [
    "num_epochs = 200\n",
    "learning_rate = 0.01\n",
    "\n",
    "input_size = 1\n",
    "hidden_size = 2\n",
    "num_layers = 1\n",
    "\n",
    "num_classes = 1\n",
    "\n",
    "lstm = LSTM(num_classes, input_size, hidden_size, num_layers)\n",
    "\n",
    "criterion = torch.nn.MSELoss()    # mean-squared error for regression\n",
    "optimizer = torch.optim.Adam(lstm.parameters(), lr=learning_rate)\n",
    "#optimizer = torch.optim.SGD(lstm.parameters(), lr=learning_rate)\n",
    "\n",
    "# Train the model\n",
    "for epoch in range(num_epochs):\n",
    "    outputs = lstm(trainX)\n",
    "    optimizer.zero_grad()\n",
    "    \n",
    "    # obtain the loss function\n",
    "    loss = criterion(outputs, trainY)\n",
    "    \n",
    "    loss.backward()\n",
    "    \n",
    "    optimizer.step()\n",
    "    if epoch % 10 == 0:\n",
    "      print(\"Epoch: %d, loss: %1.5f\" % (epoch, loss.item()))"
   ]
  },
  {
   "cell_type": "code",
   "execution_count": 30,
   "metadata": {},
   "outputs": [],
   "source": [
    "lstm.eval()\n",
    "train_predict = lstm(dataX)"
   ]
  },
  {
   "cell_type": "code",
   "execution_count": 31,
   "metadata": {},
   "outputs": [
    {
     "data": {
      "text/plain": [
       "array([[0.4944764 ],\n",
       "       [0.4853824 ],\n",
       "       [0.47535533],\n",
       "       ...,\n",
       "       [0.17787409],\n",
       "       [0.18156305],\n",
       "       [0.17882982]], dtype=float32)"
      ]
     },
     "execution_count": 31,
     "metadata": {},
     "output_type": "execute_result"
    }
   ],
   "source": [
    "train_predict.data.numpy()"
   ]
  },
  {
   "cell_type": "code",
   "execution_count": 32,
   "metadata": {},
   "outputs": [
    {
     "data": {
      "text/plain": [
       "array([[0.4528899 ],\n",
       "       [0.44567898],\n",
       "       [0.43541443],\n",
       "       ...,\n",
       "       [0.18546043],\n",
       "       [0.17394504],\n",
       "       [0.15378389]], dtype=float32)"
      ]
     },
     "execution_count": 32,
     "metadata": {},
     "output_type": "execute_result"
    }
   ],
   "source": [
    "dataY.data.numpy()"
   ]
  },
  {
   "cell_type": "code",
   "execution_count": null,
   "metadata": {},
   "outputs": [],
   "source": []
  },
  {
   "cell_type": "code",
   "execution_count": 33,
   "metadata": {},
   "outputs": [
    {
     "data": {
      "image/png": "[encoded data removed]",
      "text/plain": [
       "<Figure size 1152x288 with 1 Axes>"
      ]
     },
     "metadata": {
      "needs_background": "light"
     },
     "output_type": "display_data"
    }
   ],
   "source": [
    "trim_to = 300 ## or train_size\n",
    "\n",
    "data_predict = train_predict.data.numpy()[:trim_to]\n",
    "dataY_plot = dataY.data.numpy()[:trim_to]\n",
    "\n",
    "data_predict = sc.inverse_transform(data_predict)\n",
    "dataY_plot = sc.inverse_transform(dataY_plot)\n",
    "\n",
    "plt.figure(figsize=(16,4))\n",
    "\n",
    "plt.axvline(x=trim_to, c='r', linestyle='--')\n",
    "\n",
    "plt.plot(dataY_plot)\n",
    "plt.plot(data_predict)\n",
    "plt.suptitle('EEG Time-Series Prediction')\n",
    "plt.show()"
   ]
  },
  {
   "cell_type": "code",
   "execution_count": null,
   "metadata": {},
   "outputs": [],
   "source": []
  }
 ],
 "metadata": {
  "kernelspec": {
   "display_name": "Python 3",
   "language": "python",
   "name": "python3"
  },
  "language_info": {
   "codemirror_mode": {
    "name": "ipython",
    "version": 3
   },
   "file_extension": ".py",
   "mimetype": "text/x-python",
   "name": "python",
   "nbconvert_exporter": "python",
   "pygments_lexer": "ipython3",
   "version": "3.7.2"
  }
 },
 "nbformat": 4,
 "nbformat_minor": 2
}
