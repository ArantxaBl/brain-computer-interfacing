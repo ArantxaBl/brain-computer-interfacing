{
 "cells": [
  {
   "cell_type": "markdown",
   "metadata": {},
   "source": [
    "# Meditation competition"
   ]
  },
  {
   "cell_type": "markdown",
   "metadata": {},
   "source": [
    "**Author**:\n",
    "\n",
    " - Borja Sánchez Leirado borja.sanchez.leirado@gmail.com | [@BorjaSanchez [in]](https://www.linkedin.com/in/borjasanlei/) | [@borjasanlei [Github]](https://github.com/borjasanlei)\n",
    "---\n",
    "\n",
    "_This code is Open Source, released under a GPL License._"
   ]
  },
  {
   "cell_type": "markdown",
   "metadata": {},
   "source": [
    "**Victims**:\n"
   ]
  },
  {
   "cell_type": "markdown",
   "metadata": {},
   "source": [
    "## Loading Bitbrain's .CSV EEG into a Pandas dataframe\n",
    "\n",
    "We follow [**session0-importing-bitbrain-data-into-mne**](./session0-importing-bitbrain-data-into-mne.ipynb) to generate `mne.io.raw` object with EEG data."
   ]
  },
  {
   "cell_type": "code",
   "execution_count": 8,
   "metadata": {},
   "outputs": [],
   "source": [
    "import mne\n",
    "import pandas as pd\n",
    "import numpy as np\n",
    "\n",
    "%matplotlib inline"
   ]
  },
  {
   "cell_type": "code",
   "execution_count": 9,
   "metadata": {},
   "outputs": [],
   "source": [
    "import matplotlib \n",
    "matplotlib.rcParams['figure.figsize'] = [12, 6]"
   ]
  },
  {
   "cell_type": "code",
   "execution_count": 13,
   "metadata": {},
   "outputs": [],
   "source": [
    "def Bitbrain_to_raw(path, channels, sampling_rate):\n",
    "    '''Loading Bitbrain's .CSV EEG into a mne.io.raw object'''\n",
    "    \n",
    "    df = pd.read_csv(path)\n",
    "    df_mne = df.drop(['timestamp', 'sequence', 'battery', 'flags'], axis=1)\n",
    "\n",
    "    '''Transpose'''\n",
    "    data_mne = df_mne.to_numpy().transpose()\n",
    "\n",
    "    '''Scale'''\n",
    "    data_mne = data_mne / 1000000\n",
    "\n",
    "    '''Raw info'''\n",
    "    channels = channels\n",
    "    info_mne = mne.create_info(ch_names=channels,ch_types='eeg',sfreq = sampling_rate)\n",
    "\n",
    "    bbt_raw = mne.io.RawArray(data_mne, info_mne)\n",
    "    ten_twenty_montage = mne.channels.make_standard_montage('standard_1020')\n",
    "\n",
    "    '''Final Raw object'''\n",
    "    raw_1020 = bbt_raw.copy().set_montage(ten_twenty_montage)\n",
    "    \n",
    "    return raw_1020"
   ]
  },
  {
   "cell_type": "code",
   "execution_count": 14,
   "metadata": {},
   "outputs": [],
   "source": [
    "'''Test'''\n",
    "path = \"data/02-08-2020-jv-baseline-activity-no-labels-BBT-E16-AAA005-2020-02-08_12-59-21/EEG.csv\"\n",
    "channels = ['Fp1', 'Fp2', 'F3', 'F4', 'C1', 'C3', 'C2', 'C4', 'CP1', 'CP3', 'CP2', 'CP4', 'Cz', 'O1', 'O2', 'Pz']\n",
    "sampling_rate = 256"
   ]
  },
  {
   "cell_type": "code",
   "execution_count": 15,
   "metadata": {},
   "outputs": [
    {
     "name": "stdout",
     "output_type": "stream",
     "text": [
      "Creating RawArray with float64 data, n_channels=16, n_times=60712\n",
      "    Range : 0 ... 60711 =      0.000 ...   237.152 secs\n",
      "Ready.\n",
      "DigMontage is a superset of info. 78 in DigMontage will be ignored. The ignored channels are: {'F10', 'C5', 'T4', 'PO4', 'M2', 'F9', 'AF5', 'T6', 'AFz', 'FT8', 'PO8', 'AF1', 'P10', 'P5', 'FC2', 'T10', 'T5', 'FC4', 'F1', 'PO5', 'AF3', 'P4', 'P9', 'TP9', 'Iz', 'P2', 'PO2', 'M1', 'AF4', 'FT7', 'P7', 'Oz', 'AF6', 'P3', 'A2', 'O10', 'POz', 'T8', 'PO1', 'PO3', 'O9', 'FT9', 'FC3', 'A1', 'C6', 'TP8', 'F7', 'F5', 'F6', 'AF9', 'PO10', 'AF8', 'Fz', 'P6', 'P8', 'CP5', 'AF2', 'PO6', 'F2', 'PO9', 'P1', 'AF7', 'FC6', 'TP10', 'T3', 'AF10', 'F8', 'TP7', 'Fpz', 'FC1', 'T7', 'PO7', 'FCz', 'FC5', 'CPz', 'T9', 'CP6', 'FT10'}\n"
     ]
    },
    {
     "data": {
      "text/plain": [
       "<RawArray  |  None, n_channels x n_times : 16 x 60712 (237.2 sec), ~7.5 MB, data loaded>"
      ]
     },
     "execution_count": 15,
     "metadata": {},
     "output_type": "execute_result"
    }
   ],
   "source": [
    "rawBitbrain_to_raw(path, channels, sampling_rate)"
   ]
  },
  {
   "cell_type": "code",
   "execution_count": null,
   "metadata": {},
   "outputs": [],
   "source": []
  }
 ],
 "metadata": {
  "kernelspec": {
   "display_name": "Python 3",
   "language": "python",
   "name": "python3"
  },
  "language_info": {
   "codemirror_mode": {
    "name": "ipython",
    "version": 3
   },
   "file_extension": ".py",
   "mimetype": "text/x-python",
   "name": "python",
   "nbconvert_exporter": "python",
   "pygments_lexer": "ipython3",
   "version": "3.7.3"
  }
 },
 "nbformat": 4,
 "nbformat_minor": 2
}
